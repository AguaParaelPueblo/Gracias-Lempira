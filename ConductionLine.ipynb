{
 "cells": [
  {
   "cell_type": "markdown",
   "metadata": {
    "collapsed": true
   },
   "source": [
    "# Flow Distribution for the Two Treatment Trains\n",
    "## Problem Definition\n",
    "The two 60 L/s trains need proper flow control. They need a flow control system to split the plant flow evenly between the two trains that would enable fine grain flow control. This distribution system should keep flow control for each train independent - such that decreasing one train's flow doesn't increase the other's. \n",
    "\n",
    "## Existing Conduction Line\n",
    "The existing conduction line is composed of two independent pipes of 4\" and 6\" size. Presumably, one was added after the other in an attempt to augment the flow rate. Two pressure breaks, one for each line, are located 30 meters higher in elevation and 455 meters away from the proposed plant site. By definition, these two pressure breaks have a free surface, and therefore the difference in elevation between the pressure break and the plant's entrance tank represents the maximum available head for delivering, splitting and controlling the flow. The diagram below summarizes the existing system components:\n",
    "\n",
    "<img src=\"https://docs.google.com/drawings/d/e/2PACX-1vTYoz334ZI_fy6hpKUyfmm7Ap24bQDkuBVZXC4JJvACmSd-VeLFAUI5RsWscA-FHlxnKEQmn-Kz-H0U/pub?w=1056&h=816\">\n",
    "\n",
    "## Use the Existing 4\" and 6\" Lines\n",
    "The simplest solution is to use the current pressure break as the flow distribution system with the two existing lines (4\" and 6\") as the incoming lines for each train. To make sure this will work, we need to ensure the 4\" line can handle the full 60 L/s"
   ]
  },
  {
   "cell_type": "code",
   "execution_count": 2,
   "metadata": {
    "ExecuteTime": {
     "end_time": "2017-10-26T21:00:30.018900Z",
     "start_time": "2017-10-26T21:00:28.397160Z"
    },
    "collapsed": true
   },
   "outputs": [],
   "source": [
    "from aide_design.play import *\n",
    "from IPython.display import display\n",
    "pipe.ID_sch40 = np.vectorize(pipe.ID_sch40)\n",
    "pipe.ID_sch40 = np.vectorize(pipe.ID_sch40)"
   ]
  },
  {
   "cell_type": "code",
   "execution_count": 3,
   "metadata": {
    "ExecuteTime": {
     "end_time": "2017-10-26T21:00:30.160235Z",
     "start_time": "2017-10-26T21:00:30.102553Z"
    }
   },
   "outputs": [
    {
     "name": "stdout",
     "output_type": "stream",
     "text": [
      "Headloss in 4 inch line: 289.9 meter and available head is: 32.12 meter\n",
      "Headloss in 6 inch line: 40.36 meter and available head is: 33.29 meter\n",
      "Flow to the plant with both lines and available head is: 74.31 liter / second\n"
     ]
    }
   ],
   "source": [
    "##################      Constants         #################\n",
    "flow_branch = 60 *u.L/u.s\n",
    "flow_full = flow_branch * 2\n",
    "nd_pipe_train_4 = 4 *u.inch\n",
    "sdr_pipe = 17\n",
    "nd_pipe_train_6 = 6 * u.inch\n",
    "\n",
    "# these measurements are from Minty's notebook TODO: change to reflect topography study\n",
    "l_total = 455.06 *u.m\n",
    "height_pressure_break_4 = 1090.12 * u.m\n",
    "height_pressure_break_6 = 1091.29 * u.m\n",
    "\n",
    "# this measurement is from AutoCAD TODO: change to reflect topography study\n",
    "height_plant = 1058 * u.m\n",
    "\n",
    "PVC_ROUGHNESS = mat.PIPE_ROUGH_PVC\n",
    "NU_WATER = exp.NU_WATER \n",
    "\n",
    "# a conservative estimate for k TODO: change to reflect actual accessories\n",
    "k_conduction_line = exp.K_MINOR_EL90 * 7\n",
    "\n",
    "# Getting function inputs into simple form\n",
    "head_4 = height_pressure_break_4 - height_plant\n",
    "head_6 = height_pressure_break_6 - height_plant\n",
    "id_4 = pipe.ID_SDR(nd_pipe_train_4, sdr_pipe)\n",
    "id_6 = pipe.ID_SDR(nd_pipe_train_6, sdr_pipe)\n",
    "\n",
    "#################### headloss calculations    ############################\n",
    "\n",
    "headloss_train_4 = pc.headloss(flow_branch, id_4, l_total,NU_WATER,PVC_ROUGHNESS,k_conduction_line)\n",
    "headloss_train_6 = pc.headloss(flow_branch, id_6, l_total,NU_WATER,PVC_ROUGHNESS,k_conduction_line)\n",
    "\n",
    "print(\"Headloss in 4 inch line: \" + str(headloss_train_4) + \" and available head is: \" + str(head_4))\n",
    "print(\"Headloss in 6 inch line: \" + str(headloss_train_6) + \" and available head is: \" + str(head_6))\n",
    "\n",
    "##################### total flow calculation    ###########################\n",
    "\n",
    "flow_4 = pc.flow_pipe(id_4,head_4,l_total,NU_WATER,PVC_ROUGHNESS,k_conduction_line)\n",
    "flow_6 = pc.flow_pipe(id_6,head_6,l_total,NU_WATER,PVC_ROUGHNESS,k_conduction_line)\n",
    "flow_actual_with_two_lines = (flow_4 + flow_6).to(u.L/u.s)\n",
    "\n",
    "print(\"Flow to the plant with both lines and available head is: \" + str(flow_actual_with_two_lines))"
   ]
  },
  {
   "cell_type": "markdown",
   "metadata": {
    "variables": {
     "flow_branch": "$60.0\\ \\frac{\\mathrm{liter}}{\\mathrm{second}}$"
    }
   },
   "source": [
    "## Changing the Pipes\n",
    "The headloss in both the 4\" and 6\" lines is too great to handle the {{flow_branch}} flow rate. Therefore larger diameter pipe needs to be installed to reduce the headloss in the conduction line(s). There are multiple options for how to both increase the conduction line capacitiy and split the flow efficiently:\n",
    "\n",
    "* Distribution box at the plant with one large conduction line running from the existing plants.\n",
    "* Distribution box at the location of the current pressure breaks, with two lines running to the plant, one for each train.\n",
    "* Combine the flow with Ys from the two current pressure breaks into a large line, and split at the plant into each train\n",
    "\n",
    "The first two options involve the construction of a distribution box, an unnecessary, more complex and expensive solution. All options will use two gate valves (one for each train) at each train entrance tank for fine-grain control of each flow rate. The third option will be investigated first, as it is the simplest to construct, the least expensive, and has no functional drawbacks.\n",
    "\n",
    "To size the main trunk line, an appropriate target headloss must be chosen. Below is a graph that lists the headloss at different pipe sizes given the parameters of this plant:"
   ]
  },
  {
   "cell_type": "code",
   "execution_count": 4,
   "metadata": {
    "ExecuteTime": {
     "end_time": "2017-10-26T21:00:31.285127Z",
     "start_time": "2017-10-26T21:00:31.046324Z"
    }
   },
   "outputs": [
    {
     "data": {
      "image/png": "[encoded data removed]",
      "text/plain": [
       "<matplotlib.figure.Figure at 0x110af35f8>"
      ]
     },
     "metadata": {},
     "output_type": "display_data"
    },
    {
     "data": {
      "text/html": [
       "<div>\n",
       "<style>\n",
       "    .dataframe thead tr:only-child th {\n",
       "        text-align: right;\n",
       "    }\n",
       "\n",
       "    .dataframe thead th {\n",
       "        text-align: left;\n",
       "    }\n",
       "\n",
       "    .dataframe tbody tr th {\n",
       "        vertical-align: top;\n",
       "    }\n",
       "</style>\n",
       "<table border=\"1\" class=\"dataframe\">\n",
       "  <thead>\n",
       "    <tr style=\"text-align: right;\">\n",
       "      <th></th>\n",
       "      <th>Headloss (m)</th>\n",
       "    </tr>\n",
       "    <tr>\n",
       "      <th>Pipe Diameter (ID, inch)</th>\n",
       "      <th></th>\n",
       "    </tr>\n",
       "  </thead>\n",
       "  <tbody>\n",
       "    <tr>\n",
       "      <th>6.065</th>\n",
       "      <td>131.7</td>\n",
       "    </tr>\n",
       "    <tr>\n",
       "      <th>7.981</th>\n",
       "      <td>32.98</td>\n",
       "    </tr>\n",
       "    <tr>\n",
       "      <th>10.02</th>\n",
       "      <td>10.63</td>\n",
       "    </tr>\n",
       "    <tr>\n",
       "      <th>12.0</th>\n",
       "      <td>4.383</td>\n",
       "    </tr>\n",
       "  </tbody>\n",
       "</table>\n",
       "</div>"
      ],
      "text/plain": [
       "                          Headloss (m)\n",
       "Pipe Diameter (ID, inch)              \n",
       "6.065                            131.7\n",
       "7.981                            32.98\n",
       "10.02                            10.63\n",
       "12.0                             4.383"
      ]
     },
     "metadata": {},
     "output_type": "display_data"
    }
   ],
   "source": [
    "# Make a table with available pipe sizes\n",
    "pipe_sdr = 26\n",
    "pipe_diameters_nd = [6,8,10,12]#*u.inch\n",
    "pipe_diameters_id = pipe.ID_sch40(pipe_diameters_nd)\n",
    "headloss_various_diameters = pc.headloss(flow_full, pipe_diameters_id*u.inch, \n",
    "                                         l_total,NU_WATER,PVC_ROUGHNESS,k_conduction_line)\n",
    "df = pd.DataFrame(np.array(headloss_various_diameters.magnitude), index=pipe_diameters_id, columns=['Headloss (m)'])\n",
    "\n",
    "#Graph headloss for different pipe diameters\n",
    "df.index.name = 'Pipe Diameter (ID, inch)'\n",
    "df.name = 'Total Headloss Through Various Pipe Diameters'\n",
    "df.plot().set(ylabel=\"Headloss (m)\", title = df.name)\n",
    "plt.show()\n",
    "display(df)"
   ]
  },
  {
   "cell_type": "markdown",
   "metadata": {},
   "source": [
    "Using a 10 inch or 12 inch pipe would potentially leave enough remaining available headloss to use for flow control. \n",
    "\n",
    "## Flow Distribution\n",
    "Now the question is about flow distribution. The effect of shutting off one train potentially effects the flow rate of the other. Determining the extent of this effect is a flow distribution problem, much like those done throughout plant design. By studying the various flow paths, one can determine the effect of shutting off a flow path during the worst case scenario. There are several steps to designing the optimal system. First, the goal is to reduce the headloss in the shared line, because that headloss changes when one branch is turned off and the flow rate is halved. As the shared headloss reduces, the leftover headloss is taken up by the remaining line, increasing train flow. The steps to define the optimal pipe configuration are as follows:\n",
    "\n",
    "1. Pipe Length Geometry: make a guess for the ideal pipe geometry, attempting to minimize shared headloss and maximize train branch headloss.\n",
    "2. Headloss Calculations: determine minor and major losses throughout the system.\n",
    "3. System Error (Cross-Talk Effect): calculate the effect of cross-talk over a range of flow rates.\n",
    "\n",
    "### 1. Pipe Length Geometry\n",
    "\n",
    "The initial pipe design is based on limited knowledge of the site, and is supposed to convey a conservative guess for the condction and distribution line geometry. When a full topography of the site and the two upstream pressure breaks, a more precise design will be made and analyzed. The video below is a rendering of the preliminary design of the conduction and train-distribution system:\n",
    "\n",
    "[![Gracias Pipe System](https://i.ytimg.com/vi/rrisS073HYU/hqdefault.jpg?sqp=-oaymwEXCNACELwBSFryq4qpAwkIARUAAIhCGAE=&amp;rs=AOn4CLD_nd9y84VffIrXDJmTwNGN4aAsyw)](https://www.youtube.com/watch?v=rrisS073HYU \"Gracias Pipe System\")\n",
    "\n",
    "In summary, the proposed plan is to augment both lines running from the pressure break to 8\" lines. The two lines will immediately plumb into a main 12\" conduction line. The main line will run 455 m to the plant site, where it splits at a tee into two 4\" lines. The following calculations ensure the cross-talk between the two trains are minimized. \n",
    "\n",
    "### 2. Headloss Calculations\n",
    "\n",
    "The headloss in the various components of the system is critical in calculating the effect of cross-talk.\n",
    "\n",
    "#### Headloss From the Pressure Break to the Tee\n",
    "\n",
    "The first section of the conduction line is where the two smaller lines join the 10\" conduction line. To calculate the headloss through the two pipes, an iterative approach is used. First, the flowrates for various headlosses through the 6\" and 4\" lines combined are calculated. Because the head of the 4\" and 6\" line is known to be the same at the Tee, it is assumed that the headloss is the same (pressure breaks have the same free surface.) When these two added flow rates together equal the full plant flow rate, the resulting headloss through both pipes represent the first losses in the distribution system: \n"
   ]
  },
  {
   "cell_type": "code",
   "execution_count": 5,
   "metadata": {
    "ExecuteTime": {
     "end_time": "2017-10-26T21:00:31.933758Z",
     "start_time": "2017-10-26T21:00:31.541752Z"
    }
   },
   "outputs": [
    {
     "name": "stdout",
     "output_type": "stream",
     "text": [
      "k value in 6 inch line: 1.441 dimensionless\n",
      "k value in 4 inch line: 2.129 dimensionless\n"
     ]
    },
    {
     "data": {
      "image/png": "[encoded data removed]",
      "text/plain": [
       "<matplotlib.figure.Figure at 0x106b11438>"
      ]
     },
     "metadata": {},
     "output_type": "display_data"
    }
   ],
   "source": [
    "id_12 = pipe.ID_SDR(12, sdr_pipe)\n",
    "\n",
    "# conservative minor loss coefficient in both lines pressure break to tee:\n",
    "k_value_pressure_break_to_tee_6_inch = exp.K_MINOR_PIPE_ENTRANCE + \\\n",
    "    exp.K_MINOR_90 + k.k_value_expansion(id_6, id_12, flow_branch)\n",
    "k_value_pressure_break_to_tee_4_inch = exp.K_MINOR_PIPE_ENTRANCE + \\\n",
    "    exp.K_MINOR_90 + exp.K_MINOR_EL45 + k.k_value_expansion(id_4, id_12, flow_branch)\n",
    "\n",
    "print(\"k value in 6 inch line: \" + str(k_value_pressure_break_to_tee_6_inch))\n",
    "print('k value in 4 inch line: ' + str(k_value_pressure_break_to_tee_4_inch))\n",
    "\n",
    "# conservative pipe lengths from pressure break to tee:\n",
    "l_pressure_break_to_tee_6_inch = 4 * u.m\n",
    "l_pressure_break_to_tee_4_inch = 4 * u.m\n",
    "\n",
    "# determine headloss through both 4\" and 6\" pipes by defining headloss range:\n",
    "headloss_range_pressure_break_to_tee = np.linspace(0.1,10,100) * u.m\n",
    "# calculate the added flow rates for all the headlosses in the range:\n",
    "flow_range_pressure_break_to_tee = pc.flow_pipe(id_4, headloss_range_pressure_break_to_tee, \n",
    "                                                l_pressure_break_to_tee_4_inch, exp.NU_WATER, mat.PIPE_ROUGH_PVC,\n",
    "                                               k_value_pressure_break_to_tee_4_inch) + \\\n",
    "    pc.flow_pipe(id_6, headloss_range_pressure_break_to_tee, \n",
    "                                                l_pressure_break_to_tee_6_inch, exp.NU_WATER, mat.PIPE_ROUGH_PVC,\n",
    "                                               k_value_pressure_break_to_tee_6_inch)\n",
    "\n",
    "# graph of flow rates for various flow rates:\n",
    "df = pd.DataFrame(np.array(flow_range_pressure_break_to_tee.to(u.L/u.s)), \n",
    "                                                     index=np.array(headloss_range_pressure_break_to_tee), \n",
    "                                                     columns = ['4\" and 6\" lines'])\n",
    "df.index.name = 'Headloss (m)'\n",
    "df.columns.name = 'flow (L/s)'\n",
    "df.name = 'Headloss v. Flow rate for Pressure Break to Tee'\n",
    "df.plot().set(ylabel=df.columns.name, title=df.name)\n",
    "plt.show()\n"
   ]
  },
  {
   "cell_type": "markdown",
   "metadata": {},
   "source": [
    "3 m of head is lost to the entrance in order to supply the full plant flow. This is a significant portion of the full head available, and is in the shared headloss section, meaning it will negatively impact the flow distribution cross-talk error. Increasing the two lines to 8\" would decrease the headloss substantially, and not require too much work:"
   ]
  },
  {
   "cell_type": "code",
   "execution_count": 6,
   "metadata": {
    "ExecuteTime": {
     "end_time": "2017-10-26T21:00:32.327307Z",
     "start_time": "2017-10-26T21:00:31.961848Z"
    }
   },
   "outputs": [
    {
     "data": {
      "image/png": "[encoded data removed]",
      "text/plain": [
       "<matplotlib.figure.Figure at 0x106a04358>"
      ]
     },
     "metadata": {},
     "output_type": "display_data"
    }
   ],
   "source": [
    "# id of 8\" pipe\n",
    "diam_8 = pipe.ID_SDR(6, sdr_pipe)\n",
    "# calculate the added flow rates for all the headlosses in the range:\n",
    "flow_range_pressure_break_to_tee = pc.flow_pipe(diam_8, headloss_range_pressure_break_to_tee, \n",
    "                                                l_pressure_break_to_tee_4_inch, exp.NU_WATER, mat.PIPE_ROUGH_PVC,\n",
    "                                               k_value_pressure_break_to_tee_4_inch) + \\\n",
    "    pc.flow_pipe(diam_8, headloss_range_pressure_break_to_tee, \n",
    "                                                l_pressure_break_to_tee_6_inch, exp.NU_WATER, mat.PIPE_ROUGH_PVC,\n",
    "                                               k_value_pressure_break_to_tee_6_inch)\n",
    "\n",
    "# dataframe of flow rates for various flow rates:\n",
    "df = df.assign(flow_8_inch=np.array(flow_range_pressure_break_to_tee.to(u.L/u.s)))\n",
    "df.plot()\n",
    "plt.show()"
   ]
  },
  {
   "cell_type": "markdown",
   "metadata": {},
   "source": [
    "Now the required headloss is less than 1 m, wich will help reduce shared headloss dramatically. \n",
    "\n",
    "#### Total Shared (Trunk) Headloss\n",
    "\n",
    "Now a conservative estimate of the headloss from the main conduction line is added to form the total shared headloss. The remaining head is used in the branch lengths. Using so much head to drive the flow through each branch leads to using smaller pipes and thus smaller gate valves. The following calculations prove that a 6\" branch pipe diameter can be used and still achieve the full train flow rate."
   ]
  },
  {
   "cell_type": "code",
   "execution_count": 7,
   "metadata": {
    "ExecuteTime": {
     "end_time": "2017-10-26T21:00:32.897326Z",
     "start_time": "2017-10-26T21:00:32.854504Z"
    }
   },
   "outputs": [
    {
     "name": "stdout",
     "output_type": "stream",
     "text": [
      "The total shared headloss is: 5.383 meter\n",
      "The remaining headloss available for each train: 26.74 meter\n"
     ]
    },
    {
     "data": {
      "text/html": [
       "<div>\n",
       "<style>\n",
       "    .dataframe thead tr:only-child th {\n",
       "        text-align: right;\n",
       "    }\n",
       "\n",
       "    .dataframe thead th {\n",
       "        text-align: left;\n",
       "    }\n",
       "\n",
       "    .dataframe tbody tr th {\n",
       "        vertical-align: top;\n",
       "    }\n",
       "</style>\n",
       "<table border=\"1\" class=\"dataframe\">\n",
       "  <thead>\n",
       "    <tr style=\"text-align: right;\">\n",
       "      <th></th>\n",
       "      <th>3</th>\n",
       "      <th>4</th>\n",
       "      <th>6</th>\n",
       "      <th>8</th>\n",
       "    </tr>\n",
       "  </thead>\n",
       "  <tbody>\n",
       "    <tr>\n",
       "      <th>Pipe Size (inch)</th>\n",
       "      <td>3.068</td>\n",
       "      <td>4.026</td>\n",
       "      <td>6.065</td>\n",
       "      <td>7.981</td>\n",
       "    </tr>\n",
       "    <tr>\n",
       "      <th>Headloss (m)</th>\n",
       "      <td>864.2</td>\n",
       "      <td>99.99</td>\n",
       "      <td>4.543</td>\n",
       "      <td>0.7545</td>\n",
       "    </tr>\n",
       "  </tbody>\n",
       "</table>\n",
       "</div>"
      ],
      "text/plain": [
       "                     3     4     6      8\n",
       "Pipe Size (inch) 3.068 4.026 6.065  7.981\n",
       "Headloss (m)     864.2 99.99 4.543 0.7545"
      ]
     },
     "execution_count": 7,
     "metadata": {},
     "output_type": "execute_result"
    }
   ],
   "source": [
    "# set a conservative guess for a pressure break to tee headloss determined above:\n",
    "headloss_pressure_break_to_tee = 1 * u.m\n",
    "\n",
    "# headloss in the combined trunk:\n",
    "headloss_conduction_line = pc.headloss(flow_full, 12*u.inch, \n",
    "                                         l_total,NU_WATER,PVC_ROUGHNESS,k_conduction_line)\n",
    "\n",
    "# total shared headloss:\n",
    "headloss_shared = headloss_conduction_line + headloss_pressure_break_to_tee\n",
    "\n",
    "# set the headloss available as the difference in height from pressure break to plant entrance:\n",
    "head_available_total = min(height_pressure_break_4, height_pressure_break_6) - height_plant\n",
    "head_available_for_trains = head_available_total - headloss_shared\n",
    "\n",
    "print('The total shared headloss is: ' + str(headloss_shared))\n",
    "print('The remaining headloss available for each train: ' + str(head_available_for_trains))\n",
    "\n",
    "# calculate the headloss for various pipe sizes for a singe train branch:\n",
    "pipe_diameters_nd_branch = [3,4,6,8]*u.inch\n",
    "pipe_diameters_id_branch = pipe.ID_sch40(pipe_diameters_nd_branch)*u.inch\n",
    "\n",
    "# calculate minor losses:\n",
    "k_value_tee_to_plant_entrance = k.k_value_reduction(id_12, pipe_diameters_id_branch, flow_branch)\\\n",
    "    + exp.K_MINOR_90*4 + exp.K_MINOR_GATE_VALVE\n",
    "\n",
    "# calculate length:\n",
    "l_branch = 5 * u.m + 5 * u.m + 2 * u.m\n",
    "\n",
    "headloss_branch = pc.headloss(flow_branch, pipe_diameters_id_branch, l_branch, \n",
    "                                   exp.NU_WATER, mat.PIPE_ROUGH_PVC, k_value_tee_to_plant_entrance)\n",
    "pd.DataFrame(np.array([np.array(pipe_diameters_id_branch),np.array(headloss_branch)]),\n",
    "             columns=pipe_diameters_nd_branch, index=['Pipe Size (inch)', 'Headloss (m)'])"
   ]
  },
  {
   "cell_type": "markdown",
   "metadata": {},
   "source": [
    "There is an extreme difference in headloss between the 4\" and 6\" option. The 6\" branch diameter would not have enough headloss to enable fine-grain control of flow rate because the valve has to be at least 3/4 closed to even begin reducing the flow rate below the full branch flow rate. Therefore, the size of a short section with the gate valve could be reduced to 4\". The following calculation shows the max headloss of the proposed system: "
   ]
  },
  {
   "cell_type": "markdown",
   "metadata": {},
   "source": [
    "\n",
    "\n",
    "#### Gate Valve Reduction Headloss\n",
    "A 4\" gate valve is proposed to simultaneously increase headloss and decrease price. To calculate the headloss used by the new configuration, flow through the reduced gate valve is modeled as a thick orifice with an additional coefficient for the valve itself. Our goal is to determine what length the 4\" valve section should be to enable fine grain control with the gate valve. This is done by trying to use the remaining headloss in this section."
   ]
  },
  {
   "cell_type": "code",
   "execution_count": 8,
   "metadata": {
    "ExecuteTime": {
     "end_time": "2017-10-26T21:00:33.902987Z",
     "start_time": "2017-10-26T21:00:33.877563Z"
    }
   },
   "outputs": [
    {
     "ename": "NameError",
     "evalue": "name 'i' is not defined",
     "output_type": "error",
     "traceback": [
      "\u001b[0;31m---------------------------------------------------------------------------\u001b[0m",
      "\u001b[0;31mNameError\u001b[0m                                 Traceback (most recent call last)",
      "\u001b[0;32m<ipython-input-8-2234aff2c1bf>\u001b[0m in \u001b[0;36m<module>\u001b[0;34m()\u001b[0m\n\u001b[1;32m      3\u001b[0m \u001b[0mk_values_gate_valve\u001b[0m \u001b[0;34m=\u001b[0m \u001b[0;34m[\u001b[0m\u001b[0;36m0.17\u001b[0m\u001b[0;34m,\u001b[0m \u001b[0;36m0.9\u001b[0m\u001b[0;34m,\u001b[0m \u001b[0;36m4.5\u001b[0m\u001b[0;34m,\u001b[0m \u001b[0;36m24\u001b[0m\u001b[0;34m]\u001b[0m\u001b[0;34m\u001b[0m\u001b[0m\n\u001b[1;32m      4\u001b[0m \u001b[0mgate_valve_pipe_section_guess\u001b[0m \u001b[0;34m=\u001b[0m \u001b[0;36m10\u001b[0m\u001b[0;34m*\u001b[0m\u001b[0mu\u001b[0m\u001b[0;34m.\u001b[0m\u001b[0minch\u001b[0m\u001b[0;34m\u001b[0m\u001b[0m\n\u001b[0;32m----> 5\u001b[0;31m \u001b[0mk_value_gate_valve_section\u001b[0m \u001b[0;34m=\u001b[0m \u001b[0mk\u001b[0m\u001b[0;34m.\u001b[0m\u001b[0mk_value_orifice\u001b[0m\u001b[0;34m(\u001b[0m\u001b[0mi\u001b[0m\u001b[0;34m,\u001b[0m \u001b[0mdiam_4\u001b[0m\u001b[0;34m,\u001b[0m \u001b[0ml_gate_orifice\u001b[0m\u001b[0;34m,\u001b[0m \u001b[0mflow_branch\u001b[0m\u001b[0;34m)\u001b[0m \u001b[0;34m+\u001b[0m \u001b[0mk_values_gate_valve\u001b[0m\u001b[0;34m[\u001b[0m\u001b[0;36m0\u001b[0m\u001b[0;34m]\u001b[0m\u001b[0;34m\u001b[0m\u001b[0m\n\u001b[0m\u001b[1;32m      6\u001b[0m \u001b[0;34m\u001b[0m\u001b[0m\n\u001b[1;32m      7\u001b[0m headloss_various_positions_gate_valve = pc.headloss(flow_branch, diam_4, l_gate_orifice,\n",
      "\u001b[0;31mNameError\u001b[0m: name 'i' is not defined"
     ]
    }
   ],
   "source": [
    "# k values for the gate valve at various positions\n",
    "gate_valve_positions = [1, 0.75, 0.5, 0.25]\n",
    "k_values_gate_valve = [0.17, 0.9, 4.5, 24]\n",
    "gate_valve_pipe_section_guess = 10*u.inch\n",
    "k_value_gate_valve_section = k.k_value_orifice(i, diam_4, l_gate_orifice, flow_branch) + k_values_gate_valve[0]\n",
    "\n",
    "headloss_various_positions_gate_valve = pc.headloss(flow_branch, diam_4, l_gate_orifice,\n",
    "                                                    NU_WATER,PVC_ROUGHNESS,k_value_gate_valve_section)\n",
    "\n",
    "pd.options.display.float_format = '{:,.1f}'.format\n",
    "# headloss_whole_system_various_flow_rates = pc.flow_pipe(diam_12,l_tee_to_plant_entrance, flow_branch,)\n",
    "\n",
    "pd.DataFrame(np.array([k_value_gate_valve_section,headloss_various_positions_gate_valve.magnitude]),columns=k_value_gate_positions, \n",
    "             index=['Gate valve k values for different positions (1 is fully open, 0 fully closed)','headloss (m)'])\n",
    "\n",
    "l_pipes_final_design = np.array([l_pressure_break_to_tee_4_inch.magnitude, pipe_length_trains, l_branch, l_gate_orifice])\n",
    "id_pipes_final_design = np.array([diam_8, diam_12, diam_6, diam_4])\n",
    "k_pipes_final_design = np.array([k_value_pressure_break_to_tee_6_inch, k_pipe, k_value_tee_to_plant_entrance, k_value_gate_valve_section])\n",
    "pipeline.flow_pipeline(id_pipes_final_design, l_pipes_final_design, k_pipes_final_design)"
   ]
  },
  {
   "cell_type": "markdown",
   "metadata": {},
   "source": [
    "The headloss table reveals that a 4\" gate valve will yield a reasonable resolution for the gate valve position. This is further expounded upon in the flow row, that shows a single branch will have favorable flow distribution across the gate valve's range. "
   ]
  },
  {
   "cell_type": "markdown",
   "metadata": {},
   "source": [
    "### 3. System Error (Cross-Talk Effect)\n",
    "\n"
   ]
  },
  {
   "cell_type": "code",
   "execution_count": 9,
   "metadata": {
    "ExecuteTime": {
     "end_time": "2017-10-26T21:00:35.616085Z",
     "start_time": "2017-10-26T21:00:35.612985Z"
    },
    "collapsed": true
   },
   "outputs": [],
   "source": [
    "# Calculating the flow throughout the whole system with only one train on:\n",
    "# pc.flow_pipe()"
   ]
  },
  {
   "cell_type": "markdown",
   "metadata": {
    "collapsed": true
   },
   "source": [
    "# Confirming Exit Line Flow Rates"
   ]
  },
  {
   "cell_type": "code",
   "execution_count": 10,
   "metadata": {
    "ExecuteTime": {
     "end_time": "2017-10-26T21:00:41.630639Z",
     "start_time": "2017-10-26T21:00:41.596886Z"
    }
   },
   "outputs": [
    {
     "name": "stdout",
     "output_type": "stream",
     "text": [
      "Headloss in 4 inch line: 289.9 meter and available head is: 45.83 meter\n",
      "Headloss in 6 inch line: 40.36 meter and available head is: 45.83 meter\n",
      "Flow to the plant with both lines and available head is: 74.31 liter / second\n"
     ]
    }
   ],
   "source": [
    "height_pressure_break_after_plant_4 = 1008 * u.m\n",
    "height_pressure_break_after_plant_6 = 1009 * u.m\n",
    "\n",
    "#################### headloss calculations    ############################\n",
    "\n",
    "# a conservative estimate for k TODO: change to reflect actual accessories\n",
    "k_exit_line = exp.K_MINOR_EL90 * 7\n",
    "\n",
    "# dimensions derived from the topography study\n",
    "d_z = 45.83 * u.m\n",
    "d_x = 444.77 *u.m\n",
    "d_y = 372.49 * u.m\n",
    "\n",
    "length_exit_line = (d_z**2 + d_x**2 + d_y**2)**0.5\n",
    "head_exit_line = d_z\n",
    "\n",
    "\n",
    "headloss_exit_4 = pc.headloss(flow_branch, id_4, l_total,NU_WATER,PVC_ROUGHNESS,k_exit_line)\n",
    "headloss_exit_6 = pc.headloss(flow_branch, id_6, l_total,NU_WATER,PVC_ROUGHNESS,k_exit_line)\n",
    "\n",
    "print(\"Headloss in 4 inch line: \" + str(headloss_exit_4) + \" and available head is: \" + str(head_exit_line))\n",
    "print(\"Headloss in 6 inch line: \" + str(headloss_exit_6) + \" and available head is: \" + str(head_exit_line))\n",
    "\n",
    "##################### total flow calculation    ###########################\n",
    "\n",
    "flow_exit_4 = pc.flow_pipe(id_4,head_exit_line,length_exit_line,NU_WATER,PVC_ROUGHNESS,k_exit_line)\n",
    "flow_exit_6 = pc.flow_pipe(id_6,head_exit_line,length_exit_line, NU_WATER,PVC_ROUGHNESS,k_exit_line)\n",
    "flow_actual_exit_with_two_lines = (flow_exit_4 + flow_exit_6).to(u.L/u.s)\n",
    "\n",
    "print(\"Flow to the plant with both lines and available head is: \" + str(flow_actual_with_two_lines))"
   ]
  },
  {
   "cell_type": "markdown",
   "metadata": {},
   "source": [
    "# Conservative Estimate of the Headloss Between Filter Exit and Distribution Box Entrance\n",
    "\n",
    "For determining the height of the distribution box"
   ]
  },
  {
   "cell_type": "code",
   "execution_count": 15,
   "metadata": {
    "ExecuteTime": {
     "end_time": "2017-10-26T21:04:46.396758Z",
     "start_time": "2017-10-26T21:04:46.390982Z"
    }
   },
   "outputs": [
    {
     "data": {
      "text/html": [
       "0.16806625823005367 meter"
      ],
      "text/latex": [
       "$0.16806625823005367\\ \\mathrm{meter}$"
      ],
      "text/plain": [
       "<Quantity(0.16806625823005367, 'meter')>"
      ]
     },
     "execution_count": 15,
     "metadata": {},
     "output_type": "execute_result"
    }
   ],
   "source": [
    "\n",
    "pc.headloss(flow_full, id_12, 9*u.m, NU_WATER,PVC_ROUGHNESS,exp.K_MINOR_90*1)"
   ]
  },
  {
   "cell_type": "code",
   "execution_count": null,
   "metadata": {
    "collapsed": true
   },
   "outputs": [],
   "source": []
  },
  {
   "cell_type": "code",
   "execution_count": null,
   "metadata": {
    "collapsed": true
   },
   "outputs": [],
   "source": []
  }
 ],
 "metadata": {
  "kernelspec": {
   "display_name": "Python 3",
   "language": "python",
   "name": "python3"
  },
  "language_info": {
   "codemirror_mode": {
    "name": "ipython",
    "version": 3
   },
   "file_extension": ".py",
   "mimetype": "text/x-python",
   "name": "python",
   "nbconvert_exporter": "python",
   "pygments_lexer": "ipython3",
   "version": "3.6.1"
  },
  "varInspector": {
   "cols": {
    "lenName": 16,
    "lenType": 16,
    "lenVar": 40
   },
   "kernels_config": {
    "python": {
     "delete_cmd_postfix": "",
     "delete_cmd_prefix": "del ",
     "library": "var_list.py",
     "varRefreshCmd": "print(var_dic_list())"
    },
    "r": {
     "delete_cmd_postfix": ") ",
     "delete_cmd_prefix": "rm(",
     "library": "var_list.r",
     "varRefreshCmd": "cat(var_dic_list()) "
    }
   },
   "oldHeight": 320,
   "position": {
    "height": "342px",
    "left": "856px",
    "right": "20px",
    "top": "59px",
    "width": "456px"
   },
   "types_to_exclude": [
    "module",
    "function",
    "builtin_function_or_method",
    "instance",
    "_Feature"
   ],
   "varInspector_section_display": "block",
   "window_display": false
  }
 },
 "nbformat": 4,
 "nbformat_minor": 1
}
